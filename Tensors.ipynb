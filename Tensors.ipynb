{
  "nbformat": 4,
  "nbformat_minor": 0,
  "metadata": {
    "colab": {
      "provenance": [],
      "authorship_tag": "ABX9TyOz5ncD1cMltDmQtFFjs20o",
      "include_colab_link": true
    },
    "kernelspec": {
      "name": "python3",
      "display_name": "Python 3"
    },
    "language_info": {
      "name": "python"
    }
  },
  "cells": [
    {
      "cell_type": "markdown",
      "metadata": {
        "id": "view-in-github",
        "colab_type": "text"
      },
      "source": [
        "<a href=\"https://colab.research.google.com/github/AdityaMohite47/Machine-Learning-With-PyTorch/blob/main/Tensors.ipynb\" target=\"_parent\"><img src=\"https://colab.research.google.com/assets/colab-badge.svg\" alt=\"Open In Colab\"/></a>"
      ]
    },
    {
      "cell_type": "markdown",
      "source": [
        "# Tensors\n",
        "  - Tensor is a multi-dimensional matrix containing elements of a single data type.\n",
        "\n",
        "  - Similar to Numpy Array but they work faster and better with GPU , Thus these are more suitable for Deep Learning.\n",
        "\n",
        "  - A Tensor's default datatype is float32.\n"
      ],
      "metadata": {
        "id": "YoG2rt7Q_ORw"
      }
    },
    {
      "cell_type": "code",
      "execution_count": 3,
      "metadata": {
        "id": "vd7TwjPS_Khl"
      },
      "outputs": [],
      "source": [
        "import torch\n",
        "import numpy as np # for comparing with a Tensor with Numpy Array"
      ]
    },
    {
      "cell_type": "markdown",
      "source": [
        "Numpy Array"
      ],
      "metadata": {
        "id": "PWX-vHB0A2Wo"
      }
    },
    {
      "cell_type": "code",
      "source": [
        "nparray = np.random.rand(3 , 4)\n",
        "nparray\n"
      ],
      "metadata": {
        "colab": {
          "base_uri": "https://localhost:8080/"
        },
        "id": "ohta-ELmAhIh",
        "outputId": "08fef9a5-5896-4bd3-b498-92baf360aca1"
      },
      "execution_count": 7,
      "outputs": [
        {
          "output_type": "execute_result",
          "data": {
            "text/plain": [
              "array([[0.14488217, 0.5143325 , 0.94978082, 0.40241448],\n",
              "       [0.79641736, 0.10012683, 0.89281377, 0.11802322],\n",
              "       [0.20804778, 0.85272752, 0.94417821, 0.14437439]])"
            ]
          },
          "metadata": {},
          "execution_count": 7
        }
      ]
    },
    {
      "cell_type": "code",
      "source": [
        "nparray.dtype"
      ],
      "metadata": {
        "colab": {
          "base_uri": "https://localhost:8080/"
        },
        "id": "T2zAYju4BIYu",
        "outputId": "5b12538e-f220-4fcc-9ac2-8bf6fe43b8a5"
      },
      "execution_count": 8,
      "outputs": [
        {
          "output_type": "execute_result",
          "data": {
            "text/plain": [
              "dtype('float64')"
            ]
          },
          "metadata": {},
          "execution_count": 8
        }
      ]
    },
    {
      "cell_type": "markdown",
      "source": [
        "Tensor"
      ],
      "metadata": {
        "id": "uQyamYyYBKlM"
      }
    },
    {
      "cell_type": "code",
      "source": [
        "tensor = torch.randn(3 , 4) # A 2-D tensor\n",
        "\n",
        "tensor"
      ],
      "metadata": {
        "colab": {
          "base_uri": "https://localhost:8080/"
        },
        "id": "X4hFGBNeBOja",
        "outputId": "c3c9ce66-ce75-42a5-ab01-da3d3d649675"
      },
      "execution_count": 9,
      "outputs": [
        {
          "output_type": "execute_result",
          "data": {
            "text/plain": [
              "tensor([[ 0.6889, -1.1097,  1.1352, -0.3601],\n",
              "        [ 0.6152, -0.3563, -1.1050,  0.0752],\n",
              "        [ 0.2980, -0.8682, -0.2229, -0.8602]])"
            ]
          },
          "metadata": {},
          "execution_count": 9
        }
      ]
    },
    {
      "cell_type": "code",
      "source": [
        "tensor.dtype"
      ],
      "metadata": {
        "colab": {
          "base_uri": "https://localhost:8080/"
        },
        "id": "tC5vkYyWBgIp",
        "outputId": "f81fd168-7d71-4ce4-b8a4-c283aa90d156"
      },
      "execution_count": 10,
      "outputs": [
        {
          "output_type": "execute_result",
          "data": {
            "text/plain": [
              "torch.float32"
            ]
          },
          "metadata": {},
          "execution_count": 10
        }
      ]
    },
    {
      "cell_type": "code",
      "source": [
        "tensor3D = torch.zeros(2 , 3 , 4) # A 3-D tensor\n",
        "tensor3D"
      ],
      "metadata": {
        "colab": {
          "base_uri": "https://localhost:8080/"
        },
        "id": "KNleR41vBspo",
        "outputId": "164733d3-bae5-4d4d-f502-7a9a1b940576"
      },
      "execution_count": 12,
      "outputs": [
        {
          "output_type": "execute_result",
          "data": {
            "text/plain": [
              "tensor([[[0., 0., 0., 0.],\n",
              "         [0., 0., 0., 0.],\n",
              "         [0., 0., 0., 0.]],\n",
              "\n",
              "        [[0., 0., 0., 0.],\n",
              "         [0., 0., 0., 0.],\n",
              "         [0., 0., 0., 0.]]])"
            ]
          },
          "metadata": {},
          "execution_count": 12
        }
      ]
    },
    {
      "cell_type": "markdown",
      "source": [
        "Creating tensor out of a Numpy Array"
      ],
      "metadata": {
        "id": "IoHG1SHeCNNl"
      }
    },
    {
      "cell_type": "code",
      "source": [
        "np_to_tensor = torch.tensor(nparray)\n",
        "\n",
        "np_to_tensor"
      ],
      "metadata": {
        "colab": {
          "base_uri": "https://localhost:8080/"
        },
        "id": "AI656VSgCSS7",
        "outputId": "354d4243-8103-4557-d724-c1dd391b3068"
      },
      "execution_count": 13,
      "outputs": [
        {
          "output_type": "execute_result",
          "data": {
            "text/plain": [
              "tensor([[0.1449, 0.5143, 0.9498, 0.4024],\n",
              "        [0.7964, 0.1001, 0.8928, 0.1180],\n",
              "        [0.2080, 0.8527, 0.9442, 0.1444]], dtype=torch.float64)"
            ]
          },
          "metadata": {},
          "execution_count": 13
        }
      ]
    },
    {
      "cell_type": "markdown",
      "source": [
        "Tensor and Dimensions\n",
        "\n",
        "- 0D Tensor (Scalar): Just a number. For example, 5.\n",
        "\n",
        "- 1D Tensor (Vector): A list or array of numbers. For example, [1, 2, 3].\n",
        "\n",
        "- 2D Tensor (Matrix): A grid of numbers. For example :\n",
        "[ [1, 2],\n",
        " [3, 4] ]\n",
        "\n",
        "- 3D Tensor : Think of it as a stack of 2D matrices.\n",
        "For example imagine 3 2D matrices stacked together :\n",
        "\n",
        "[\n",
        "    [\n",
        "        [1, 2], [3, 4]\n",
        "    ],\n",
        "    [\n",
        "        [5, 6], [7, 8]\n",
        "    ],\n",
        "    [\n",
        "        [9, 10], [11, 12]\n",
        "    ]\n",
        "]\n",
        "\n"
      ],
      "metadata": {
        "id": "kdNnTvqtD-Lj"
      }
    }
  ]
}