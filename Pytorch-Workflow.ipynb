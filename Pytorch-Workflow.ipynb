{
 "cells": [
  {
   "cell_type": "markdown",
   "metadata": {},
   "source": [
    "## Pytorch Workflow"
   ]
  },
  {
   "cell_type": "markdown",
   "metadata": {},
   "source": [
    "![image.png](https://raw.githubusercontent.com/mrdbourke/pytorch-deep-learning/main/images/01_a_pytorch_workflow.png)\n"
   ]
  },
  {
   "cell_type": "code",
   "execution_count": 1,
   "metadata": {},
   "outputs": [
    {
     "data": {
      "text/plain": [
       "'2.5.1+cu118'"
      ]
     },
     "execution_count": 1,
     "metadata": {},
     "output_type": "execute_result"
    }
   ],
   "source": [
    "import torch\n",
    "from torch import nn # nn contains neural network packages in PyTroch\n",
    "import matplotlib.pyplot as plt\n",
    "import seaborn as sns\n",
    "\n",
    "torch.__version__"
   ]
  },
  {
   "cell_type": "markdown",
   "metadata": {},
   "source": [
    "<b> Data (Preparing and Loading into) </b>\n",
    " \n",
    "Data can be almost anything in ML...\n",
    "\n",
    "Excel Sheets , Images , Videos , Audio , Text and many more...\n",
    "\n",
    "ML is game of two parts : \n",
    "1. Get Data into numerical representation.\n",
    "2. Building a model to learn patterns in numerical data."
   ]
  },
  {
   "cell_type": "markdown",
   "metadata": {},
   "source": [
    "Using *Linear Regression* formula to make a straight line on known data , with known **parameters** of the formula"
   ]
  },
  {
   "cell_type": "code",
   "execution_count": 2,
   "metadata": {},
   "outputs": [
    {
     "data": {
      "text/plain": [
       "(tensor([[0.0000],\n",
       "         [0.0300],\n",
       "         [0.0600],\n",
       "         [0.0900],\n",
       "         [0.1200],\n",
       "         [0.1500],\n",
       "         [0.1800],\n",
       "         [0.2100],\n",
       "         [0.2400],\n",
       "         [0.2700]]),\n",
       " tensor([[0.4000],\n",
       "         [0.4240],\n",
       "         [0.4480],\n",
       "         [0.4720],\n",
       "         [0.4960],\n",
       "         [0.5200],\n",
       "         [0.5440],\n",
       "         [0.5680],\n",
       "         [0.5920],\n",
       "         [0.6160]]))"
      ]
     },
     "execution_count": 2,
     "metadata": {},
     "output_type": "execute_result"
    }
   ],
   "source": [
    "# known parameters\n",
    "\n",
    "weight = 0.8 # Bi from eq. y = B0 * sum(Bi*xi) [slope]\n",
    "bias = 0.4 # B0 from eq. y = B0 * sum(Bi*xi) [y intercept]\n",
    "\n",
    "X = torch.arange(0 , 1 , 0.03).unsqueeze(dim=1)\n",
    "y = bias + (weight * X) # Simple Linear Regression formulation.\n",
    "\n",
    "X[:10] , y[:10]"
   ]
  },
  {
   "cell_type": "code",
   "execution_count": 3,
   "metadata": {},
   "outputs": [
    {
     "data": {
      "text/plain": [
       "(34, 34)"
      ]
     },
     "execution_count": 3,
     "metadata": {},
     "output_type": "execute_result"
    }
   ],
   "source": [
    "len(X) , len(y)"
   ]
  },
  {
   "cell_type": "markdown",
   "metadata": {},
   "source": [
    "<b> Making *Traning* and *Testing* splits of data for traning our model. </b>"
   ]
  },
  {
   "cell_type": "code",
   "execution_count": 4,
   "metadata": {},
   "outputs": [
    {
     "data": {
      "text/plain": [
       "27"
      ]
     },
     "execution_count": 4,
     "metadata": {},
     "output_type": "execute_result"
    }
   ],
   "source": [
    "train_split = int(0.8 * len(X))\n",
    "train_split"
   ]
  },
  {
   "cell_type": "code",
   "execution_count": 5,
   "metadata": {},
   "outputs": [
    {
     "data": {
      "text/plain": [
       "6"
      ]
     },
     "execution_count": 5,
     "metadata": {},
     "output_type": "execute_result"
    }
   ],
   "source": [
    "test_split = int(0.2 * len(y))\n",
    "test_split"
   ]
  },
  {
   "cell_type": "code",
   "execution_count": 6,
   "metadata": {},
   "outputs": [],
   "source": [
    "X_train , y_train , X_test , y_test = X[:train_split] , y[:train_split] , X[train_split:] , y[train_split:]"
   ]
  },
  {
   "cell_type": "markdown",
   "metadata": {},
   "source": [
    "<b>Visualizing Data</b>"
   ]
  },
  {
   "cell_type": "code",
   "execution_count": 11,
   "metadata": {},
   "outputs": [],
   "source": [
    "\"\"\"Plots traning data , test data and predictions\"\"\"\n",
    "def plot_predictions(X_train , y_train , X_test , y_test , preds=None):\n",
    "    plt.figure(figsize=(12 , 8) , dpi=100)\n",
    "    plt.scatter(X_train , y_train  , label=\"Training Data\")\n",
    "    plt.scatter(X_test , y_test , c='g' , label=\"Testing Data\")\n",
    "    plt.legend()\n",
    "\n",
    "    if preds is not None:\n",
    "        plt.scatter(X_test , preds , c='r')"
   ]
  },
  {
   "cell_type": "code",
   "execution_count": 12,
   "metadata": {},
   "outputs": [
    {
     "data": {
      "image/png": "[encoded data removed]",
      "text/plain": [
       "<Figure size 1200x800 with 1 Axes>"
      ]
     },
     "metadata": {},
     "output_type": "display_data"
    }
   ],
   "source": [
    "plot_predictions(X_train , y_train , X_test , y_test)"
   ]
  },
  {
   "cell_type": "markdown",
   "metadata": {},
   "source": [
    "<b>Building a PyTorch Regression Model</b>\n",
    "\n",
    "This model starts with random values (weights and bias ) , Looks at training data and adjust the random values to better represent (or getting closer to) our **known Values of Weights and Bias**\n",
    "\n",
    "It does this through 2 main algorithms:\n",
    "1. Gradient Descent.\n",
    "2. Back Propogation.\n",
    "\n",
    "Both Algorithms are already implemented in PyTorch"
   ]
  },
  {
   "cell_type": "code",
   "execution_count": null,
   "metadata": {},
   "outputs": [],
   "source": [
    "# Linear Regression Model Class\n",
    "\n",
    "# nn.Parameter() : A kind of Tensor that is to be considered a module parameter. Parameters are ~torch.Tensor subclasses, that have a\n",
    "# very special property when used with Module s - when they're assigned as Module attributes they are automatically added to the list of\n",
    "# its parameters, and will appear e.g. in ~Module.parameters iterator.\n",
    "\n",
    "class LinearRegression(nn.Module): # <- Almost everything builds up from nn.Module in PyTroch\n",
    "    def __init__(self):\n",
    "        super().__init__()\n",
    "\n",
    "        # making a random tensor parameters ( for gradient descent 'requires_grad=True' is set)\n",
    "        self.weights = nn.Parameter(torch.rand(1 , requires_grad=True , dtype=torch.float))\n",
    "        self.bias = nn.Parameter(torch.rand(1 , requires_grad=True , dtype=torch.float)) \n",
    "\n",
    "        # When Computations run PyTorch keeps track of gradient of these parameters and updates \n",
    "        # them through combination of Gradient Descent and BackPropogation.\n",
    "\n",
    "\n",
    "    \"\"\" forward method to define computation in the model \"\"\"\n",
    "    def forward(self , x:torch.Tensor) -> torch.Tensor:\n",
    "        return self.bias + (self.weights * x) # Linear Regression Formulation"
   ]
  }
 ],
 "metadata": {
  "kernelspec": {
   "display_name": "Python 3",
   "language": "python",
   "name": "python3"
  },
  "language_info": {
   "codemirror_mode": {
    "name": "ipython",
    "version": 3
   },
   "file_extension": ".py",
   "mimetype": "text/x-python",
   "name": "python",
   "nbconvert_exporter": "python",
   "pygments_lexer": "ipython3",
   "version": "3.12.4"
  }
 },
 "nbformat": 4,
 "nbformat_minor": 2
}
